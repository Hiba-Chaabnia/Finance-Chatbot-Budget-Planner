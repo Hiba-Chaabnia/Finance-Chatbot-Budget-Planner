{
  "cells": [
    {
      "cell_type": "markdown",
      "source": [
        "[![Open in Colab](https://colab.research.google.com/assets/colab-badge.svg)](https://colab.research.google.com/drive/1LS4EKO0G8M7bMHqhXKd4R_IkEubBOOUk?authuser=1)\n"
      ],
      "metadata": {
        "id": "528dzRYzYSf0"
      },
      "id": "528dzRYzYSf0"
    },
    {
      "cell_type": "markdown",
      "id": "f97d878a-4933-4ccf-90dc-c34d794bb725",
      "metadata": {
        "id": "f97d878a-4933-4ccf-90dc-c34d794bb725"
      },
      "source": [
        "# Muti-Agent Budget Planner\n",
        "\n",
        "This code implements a Multi-Agent Budget Planner using the CrewAI framework, designed to provide personalized financial planning and advice. The system leverages three specialized AI agents working in concert:\n",
        "\n",
        "1. An **Information Extractor** that processes and structures raw financial data from user's input\n",
        "2. A **Financial Analyst** that creates optimized budget plans using the 50/30/20 rule\n",
        "3. A **Financial Advisor** that provides actionable recommendations\n",
        "\n",
        "The planner uses `Google's Gemini 1.5 Flash model` as its language model and is built utilizing `CrewAI` framework.\n",
        "\n",
        "Users can input their financial information - including income, expenses, and savings goals - and receive comprehensive budget analysis and personalized financial advice.\n",
        "\n",
        "![Muti-Agent Budget Planner System Architecture](https://drive.google.com/uc?export=view&id=1RpeyQ0SnhggVefMN0cle-Dg5ZcbR2vUV)\n",
        "\n"
      ]
    },
    {
      "cell_type": "markdown",
      "id": "60c4ea1b-add1-43c9-904b-2a06297adc3b",
      "metadata": {
        "id": "60c4ea1b-add1-43c9-904b-2a06297adc3b"
      },
      "source": [
        "##01. Envirorment Setup\n",
        "\n",
        "⚠️ CrewAI requires Python version >=3.10 and <=3.13\n"
      ]
    },
    {
      "cell_type": "code",
      "execution_count": 5,
      "id": "5ceaf4ea-01e5-41ba-9724-49eb6639938e",
      "metadata": {
        "colab": {
          "base_uri": "https://localhost:8080/"
        },
        "id": "5ceaf4ea-01e5-41ba-9724-49eb6639938e",
        "outputId": "0004100c-ce6a-4867-a48e-7a89e65775f7"
      },
      "outputs": [
        {
          "output_type": "stream",
          "name": "stdout",
          "text": [
            "3.10.12 (main, Nov  6 2024, 20:22:13) [GCC 11.4.0]\n"
          ]
        }
      ],
      "source": [
        "import sys\n",
        "print(sys.version)"
      ]
    },
    {
      "cell_type": "markdown",
      "source": [
        "📦 Installing the necessary libraries for the project"
      ],
      "metadata": {
        "id": "THmCWDB81AiW"
      },
      "id": "THmCWDB81AiW"
    },
    {
      "cell_type": "code",
      "source": [
        "!pip install crewai crewai_tools langchain &>/dev/null"
      ],
      "metadata": {
        "id": "pYSP3aSLB54U"
      },
      "id": "pYSP3aSLB54U",
      "execution_count": 6,
      "outputs": []
    },
    {
      "cell_type": "markdown",
      "id": "9f8a52ce-1972-462e-8763-fcfd40c7b192",
      "metadata": {
        "id": "9f8a52ce-1972-462e-8763-fcfd40c7b192"
      },
      "source": [
        "## 02. Importing Libraries"
      ]
    },
    {
      "cell_type": "code",
      "execution_count": 7,
      "id": "6ed03e05-c49f-48fb-bb58-320b8342a372",
      "metadata": {
        "id": "6ed03e05-c49f-48fb-bb58-320b8342a372"
      },
      "outputs": [],
      "source": [
        "from crewai import Agent, Task, Crew, LLM"
      ]
    },
    {
      "cell_type": "markdown",
      "source": [
        "🔒 Retrieving the Gemini API from the environment variable, follow these step-by-step instructions:\n",
        "\n",
        "1. Generate the API Key:\n",
        "   - If you haven’t created an API key yet, visit [aistudio.google.com](https://aistudio.google.com) to generate one.\n",
        "\n",
        "2. Add the API Key in Google Colab:\n",
        "   - In your Google Colab notebook, click on the key (secret) icon 🔑 on the left sidebar.\n",
        "   - Click on the \"Add new secret\" button.\n",
        "   - Name the secret `GEMINI_API_KEY`.\n",
        "   - Paste your generated API key into the Value field.\n",
        "   - Toggle the Notebook Access."
      ],
      "metadata": {
        "id": "Ff0KWYYI4qTZ"
      },
      "id": "Ff0KWYYI4qTZ"
    },
    {
      "cell_type": "code",
      "source": [
        "from google.colab import userdata\n",
        "GEMINI_API_KEY=userdata.get('GEMINI_API_KEY')"
      ],
      "metadata": {
        "id": "kcqTtl3H3nGF"
      },
      "id": "kcqTtl3H3nGF",
      "execution_count": 8,
      "outputs": []
    },
    {
      "cell_type": "markdown",
      "source": [
        "🦜 Initializing the Gemini 1.5 Flash model"
      ],
      "metadata": {
        "id": "6kKPiTxz8rgg"
      },
      "id": "6kKPiTxz8rgg"
    },
    {
      "cell_type": "code",
      "source": [
        "gemini_model = LLM (model='gemini/gemini-1.5-flash',\n",
        "                    temperature=0.7,\n",
        "                    api_key= GEMINI_API_KEY)"
      ],
      "metadata": {
        "id": "LRMBK7R2R9Y6"
      },
      "id": "LRMBK7R2R9Y6",
      "execution_count": 9,
      "outputs": []
    },
    {
      "cell_type": "code",
      "execution_count": 10,
      "id": "c2512ae4-c543-4a0d-8751-c5d4cfed9d75",
      "metadata": {
        "id": "c2512ae4-c543-4a0d-8751-c5d4cfed9d75"
      },
      "outputs": [],
      "source": [
        "# Warning control\n",
        "import warnings\n",
        "warnings.filterwarnings('ignore')"
      ]
    },
    {
      "cell_type": "markdown",
      "id": "564e07a4-2c35-4c8a-8386-7dabc7439bc5",
      "metadata": {
        "id": "564e07a4-2c35-4c8a-8386-7dabc7439bc5"
      },
      "source": [
        "## 03. Creating Agents\n",
        "\n",
        "In this step, we'll create instances of the `Agent` class, each with specific properties that define their role, goal, and backstory:\n",
        "\n",
        "- **`role`**: The agent's function within the crew 🛠️\n",
        "- **`goal`**: The agent's objective, guiding their decision-making 🎯\n",
        "- **`backstory`**: Provides context to the agent's role and goal, enhancing interactions and collaboration 📖"
      ]
    },
    {
      "cell_type": "markdown",
      "source": [
        "### Agent 1: Information Extractor 💼📊"
      ],
      "metadata": {
        "id": "S9oXQtGkl7Id"
      },
      "id": "S9oXQtGkl7Id"
    },
    {
      "cell_type": "code",
      "execution_count": 11,
      "id": "cfe06ce8-a00c-4579-af68-a17eca183c16",
      "metadata": {
        "id": "cfe06ce8-a00c-4579-af68-a17eca183c16"
      },
      "outputs": [],
      "source": [
        "Information_Extractor = Agent(\n",
        "    role=\"Data Engineer for Financial Systems\",\n",
        "\n",
        "    goal=\"Process and structure {user_inputs} into\"\n",
        "         \"categorized data, identifying gaps or inconsistencies.\"\n",
        "         \"Ensure accuracy and completeness for subsequent calculations.\",\n",
        "\n",
        "    backstory=(\n",
        "        \"You have a strong background in financial data \"\n",
        "        \"processing, having previously worked on systems that categorize and \"\n",
        "        \"validate transactions for budgeting apps like Mint. Your expertise \"\n",
        "        \"in data pipelines and natural language processing makes you adept at \"\n",
        "        \"handling unstructured text and converting it into actionable information.\"\n",
        "    ),\n",
        "\n",
        "    llm = gemini_model,\n",
        "    allow_delegration=False,\n",
        "    verbose=True,\n",
        "    memory=True\n",
        ")"
      ]
    },
    {
      "cell_type": "markdown",
      "source": [
        "### Agent 2: Financial Analyst 💰📈"
      ],
      "metadata": {
        "id": "qnIqazCqhbgU"
      },
      "id": "qnIqazCqhbgU"
    },
    {
      "cell_type": "code",
      "execution_count": 12,
      "id": "91b74152-e86c-47e5-9bc4-291e1479df3e",
      "metadata": {
        "id": "91b74152-e86c-47e5-9bc4-291e1479df3e"
      },
      "outputs": [],
      "source": [
        "Financial_Analyst = Agent(\n",
        "    role=\"Financial Analyst Specializing in Budget Allocation and Optimization.\",\n",
        "    goal=\"Create a personalized budget plan that aligns with the user's \"\n",
        "         \"needs, wants, and financial aspirations.\"\n",
        "         \"Utilize the 50/30/20 rule as a foundation. \",\n",
        "\n",
        "    backstory=(\n",
        "        \"With a vast knowledge of financial planning principles, \"\n",
        "        \"budgeting methodologies, and investment strategies, you excel at \"\n",
        "        \"analyzing complex financial scenarios, identifying potential risks \"\n",
        "        \"and rewards, and recommend optimal budget allocations\"\n",
        "        \"to help users achieve their financial goals.\"),\n",
        "\n",
        "    llm = gemini_model,\n",
        "    allow_delegration=False,\n",
        "    verbose=True,\n",
        ")"
      ]
    },
    {
      "cell_type": "markdown",
      "source": [
        "### Agent 3: Financial Advisor 💡💵\n",
        "\n"
      ],
      "metadata": {
        "id": "HhxjIqMOiu_B"
      },
      "id": "HhxjIqMOiu_B"
    },
    {
      "cell_type": "code",
      "execution_count": 13,
      "id": "d102537d-8e21-4a8f-b96c-ddc76fd7870f",
      "metadata": {
        "id": "d102537d-8e21-4a8f-b96c-ddc76fd7870f"
      },
      "outputs": [],
      "source": [
        "Financial_Advisor = Agent(\n",
        "    role=\"Financial Advisor Specializing in \"\n",
        "         \"Personalized Financial Guidance and Education.\",\n",
        "\n",
        "    goal=\"Empower users to make informed financial choices \"\n",
        "         \"and achieve their financial goals by providing them \"\n",
        "         \"with actionable financial advice and personalized recommendations\",\n",
        "\n",
        "    backstory=(\n",
        "        \"As a compassionate and knowledgeable financial advisor, you\"\n",
        "        \"are passionate about helping others improve their financial well-being. \"\n",
        "        \"You possess excellent communication and interpersonal skills, \"\n",
        "        \" enabling you to build strong relationships with users \"\n",
        "        \"and provide clear, actionable advice.\"),\n",
        "\n",
        "    llm = gemini_model,\n",
        "    allow_delegration=False,\n",
        "    verbose=True,\n",
        ")"
      ]
    },
    {
      "cell_type": "markdown",
      "id": "ff20d2ef-cd03-4581-8fed-3ea4893f784c",
      "metadata": {
        "id": "ff20d2ef-cd03-4581-8fed-3ea4893f784c"
      },
      "source": [
        "## 04. Creating Tasks\n",
        "\n",
        "Now, it's time to define the **tasks**! Tasks are specific assignments for agents and provide all the details they need to execute them successfully.\n",
        "\n",
        "Each task includes:\n",
        "\n",
        "- **`description`**: What the task is all about 📝\n",
        "- **`expected_output`**: What the outcome should look like 🎯\n",
        "- **`agent`**: The agent responsible for completing the task 🤖"
      ]
    },
    {
      "cell_type": "markdown",
      "source": [
        "### Task for Information Extractor Agent: Process Financial Data"
      ],
      "metadata": {
        "id": "Tlx6_gsq_vrw"
      },
      "id": "Tlx6_gsq_vrw"
    },
    {
      "cell_type": "code",
      "execution_count": 14,
      "id": "0d9bec12-fef9-472c-a4f8-a341c4d72cd1",
      "metadata": {
        "id": "0d9bec12-fef9-472c-a4f8-a341c4d72cd1"
      },
      "outputs": [],
      "source": [
        "process_financial_data = Task(\n",
        "    description=(\n",
        "        \"Process and structure the financial information in {user_inputs}. Categorize data into:\"\n",
        "        \"1. Income sources\"\n",
        "        \"2. Fixed expenses\"\n",
        "        \"3. Discretionary spending\"\n",
        "        \"4. Savings goals\"\n",
        "        \"Identify any gaps or inconsistencies in the data and request clarification if needed.\"\n",
        "    ),\n",
        "\n",
        "    expected_output=(\n",
        "        \"The output should provide the following structured details:\"\n",
        "        \"1. A categorized list of income sources (e.g., salary, freelance, rental income).\"\n",
        "        \"2. Fixed expenses categorized by type (e.g., rent, utilities, insurance).\"\n",
        "        \"3. Variable expenses categorized by type (e.g., groceries, entertainment).\"\n",
        "        \"4. Details of current savings and investments (e.g., bank savings, stocks, bonds).\"\n",
        "        \"5. A summary highlighting inconsistencies, missing data, or anomalies in the financial information.\"\n",
        "        ),\n",
        "\n",
        "    agent= Information_Extractor ,\n",
        "\n",
        ")"
      ]
    },
    {
      "cell_type": "markdown",
      "source": [
        "### Task for Financial Analyst Agent: Create Budget Plan"
      ],
      "metadata": {
        "id": "n0ftfOgrAwt1"
      },
      "id": "n0ftfOgrAwt1"
    },
    {
      "cell_type": "markdown",
      "source": [
        "- A **list of tasks** can be passed as `context` to another task 🔗\n",
        "- The task will **consider the outputs** of the tasks in the list during its execution 🛠️\n",
        "- The task will **not run** until it has received the necessary output(s) from those tasks ⏳"
      ],
      "metadata": {
        "id": "r9E6n8jlU9jU"
      },
      "id": "r9E6n8jlU9jU"
    },
    {
      "cell_type": "code",
      "execution_count": 15,
      "id": "8736e4d9-8122-45aa-b448-6080635ab2a9",
      "metadata": {
        "id": "8736e4d9-8122-45aa-b448-6080635ab2a9"
      },
      "outputs": [],
      "source": [
        "create_budget_plan = Task(\n",
        "    description=(\n",
        "        \"Create a personalized budget plan based on the processed data. Utilize the 50/30/20 rule:\"\n",
        "        \"1. Allocate 50% of income to needs (fixed expenses)\"\n",
        "        \"2. Allocate 30% of income to wants (discretionary spending)\"\n",
        "        \"3. Allocate 20% of income to savings and debt repayment\"\n",
        "        \"Adjust allocations based on the user's specific goals and financial situation.\"),\n",
        "\n",
        "    expected_output=(\n",
        "        \"The output should include: \"\n",
        "        \"- A detailed budget plan with allocations as per the 50/30/20 rule. \"\n",
        "        \"- Needs: 50% of income allocated to fixed expenses. \"\n",
        "        \"- Wants: 30% of income allocated to discretionary spending. \"\n",
        "        \"- Savings: 20% of income allocated for savings and investments. \"\n",
        "        \"- A summary highlighting any adjustments needed.\"\n",
        "    ),\n",
        "\n",
        "    context=[process_financial_data],\n",
        "    agent= Financial_Analyst\n",
        ")"
      ]
    },
    {
      "cell_type": "markdown",
      "source": [
        "### Task for Financial Advisor Agent: Provide Financial Advice"
      ],
      "metadata": {
        "id": "KpGZ7-g3BaBS"
      },
      "id": "KpGZ7-g3BaBS"
    },
    {
      "cell_type": "code",
      "execution_count": 16,
      "id": "dbc9d3ed-7472-4ed5-b87c-e3fce16002f6",
      "metadata": {
        "id": "dbc9d3ed-7472-4ed5-b87c-e3fce16002f6"
      },
      "outputs": [],
      "source": [
        "provide_financial_advice = Task(\n",
        "    description=(\n",
        "        \"Provide actionable financial advice and recommendations. Include\"\n",
        "        \"tips on reducing fixed expenses, managing discretionary spending,\"\n",
        "        \"achieveing savings goals, and investment strategies for \"\n",
        "        \"long-term financial health. Ensure the advice\"\n",
        "        \"is personalized and aligns with the user's financial aspirations.\"\n",
        "    ),\n",
        "\n",
        "    expected_output = (\n",
        "        \"Simplified, actionable and personalized advice and steps\"\n",
        "        \"for improving financial well-being. Please keep it concise.\"\n",
        "        \"Provide a structured summary of the 50/30/20 budget \"\n",
        "        \"in a simple table format with the following columns:\"\n",
        "        \"Category (Needs, Wants, Savings), Amount, and Actionable Steps.\"\n",
        "    ),\n",
        "\n",
        "    context=[create_budget_plan],\n",
        "    agent= Financial_Advisor\n",
        ")\n"
      ]
    },
    {
      "cell_type": "markdown",
      "id": "3e43980d-b69a-4bcd-b1c6-d8a01dad5e4a",
      "metadata": {
        "id": "3e43980d-b69a-4bcd-b1c6-d8a01dad5e4a"
      },
      "source": [
        "## 05. Forming Crew\n",
        "\n",
        "The **crew** is a group of AI agents working together to complete a set of tasks.\n",
        "\n",
        "A crew is defined by:\n",
        "\n",
        "- **`tasks`**: A list of tasks to be performed 📝\n",
        "- **`agents`**: A list of the agents involved 🤖\n",
        "- **`verbose=True`**: Allows you to see all execution logs for full transparency 🖥️"
      ]
    },
    {
      "cell_type": "code",
      "execution_count": 17,
      "id": "efc34cea-ba50-477e-a264-f4cb825f2e7e",
      "metadata": {
        "id": "efc34cea-ba50-477e-a264-f4cb825f2e7e"
      },
      "outputs": [],
      "source": [
        "budget_planner_crew  = Crew(\n",
        "    agents=[ Information_Extractor, Financial_Analyst, Financial_Advisor],\n",
        "    tasks=[ process_financial_data, create_budget_plan, provide_financial_advice],\n",
        "    verbose=True\n",
        ")"
      ]
    },
    {
      "cell_type": "markdown",
      "id": "9f1ebabf-6b0c-4d49-afcf-c5194d851ee7",
      "metadata": {
        "id": "9f1ebabf-6b0c-4d49-afcf-c5194d851ee7"
      },
      "source": [
        "### Running the crew"
      ]
    },
    {
      "cell_type": "code",
      "execution_count": 18,
      "id": "224b76d7-628f-4511-92dc-6757e09bfd56",
      "metadata": {
        "id": "224b76d7-628f-4511-92dc-6757e09bfd56"
      },
      "outputs": [],
      "source": [
        "user_inputs = \"\"\"\n",
        "Each month, I bring in about $6,000, primarily from my salary of $5,000, supplemented by $800 from freelance work and $200 from investments.\n",
        "My fixed expenses include $1,500 for rent, $200 for utilities, $100 for internet and phone, $400 for insurance, $50 for subscriptions, and $500 for loan payments.\n",
        "On top of that, I spend around $950 on discretionary expenses with a third for dining out, $150 on hobbies and entertainment, $200 on shopping, and the rest on travel.\n",
        "I aim to save $1,200 monthly toward a $10,000 goal, which I hope to achieve in about eight months.\"\n",
        "\"\"\""
      ]
    },
    {
      "cell_type": "markdown",
      "id": "f18db8cf-a308-4f65-9fff-1363f64da0eb",
      "metadata": {
        "id": "f18db8cf-a308-4f65-9fff-1363f64da0eb"
      },
      "source": [
        "### Kicking off the crew"
      ]
    },
    {
      "cell_type": "code",
      "execution_count": 19,
      "id": "9c490189-f0a4-4ac0-b924-545450e8bff6",
      "metadata": {
        "scrolled": true,
        "id": "9c490189-f0a4-4ac0-b924-545450e8bff6",
        "outputId": "5b358f32-c065-497f-fe14-961551b7caf9",
        "colab": {
          "base_uri": "https://localhost:8080/"
        }
      },
      "outputs": [
        {
          "output_type": "stream",
          "name": "stdout",
          "text": [
            "\u001b[1m\u001b[95m# Agent:\u001b[00m \u001b[1m\u001b[92mData Engineer for Financial Systems\u001b[00m\n",
            "\u001b[95m## Task:\u001b[00m \u001b[92mProcess and structure the financial information in \n",
            "Each month, I bring in about $6,000, primarily from my salary of $5,000, supplemented by $800 from freelance work and $200 from investments.\n",
            "My fixed expenses include $1,500 for rent, $200 for utilities, $100 for internet and phone, $400 for insurance, $50 for subscriptions, and $500 for loan payments.\n",
            "On top of that, I spend around $950 on discretionary expenses with a third for dining out, $150 on hobbies and entertainment, $200 on shopping, and the rest on travel.\n",
            "I aim to save $1,200 monthly toward a $10,000 goal, which I hope to achieve in about eight months.\"\n",
            ". Categorize data into:1. Income sources2. Fixed expenses3. Discretionary spending4. Savings goalsIdentify any gaps or inconsistencies in the data and request clarification if needed.\u001b[00m\n",
            "\n",
            "\n",
            "\u001b[1m\u001b[95m# Agent:\u001b[00m \u001b[1m\u001b[92mData Engineer for Financial Systems\u001b[00m\n",
            "\u001b[95m## Final Answer:\u001b[00m \u001b[92m\n",
            "**1. Income Sources:**\n",
            "\n",
            "*   **Salary:** $5,000\n",
            "*   **Freelance Work:** $800\n",
            "*   **Investments:** $200\n",
            "*   **Total Monthly Income:** $6,000\n",
            "\n",
            "**2. Fixed Expenses:**\n",
            "\n",
            "*   **Rent:** $1,500\n",
            "*   **Utilities:** $200\n",
            "*   **Internet & Phone:** $100\n",
            "*   **Insurance:** $400\n",
            "*   **Subscriptions:** $50\n",
            "*   **Loan Payments:** $500\n",
            "*   **Total Fixed Monthly Expenses:** $2,750\n",
            "\n",
            "**3. Discretionary Spending:**\n",
            "\n",
            "*   **Dining Out:** $950 / 3 ≈ $316.67\n",
            "*   **Hobbies & Entertainment:** $150\n",
            "*   **Shopping:** $200\n",
            "*   **Travel:** $950 - ($316.67 + $150 + $200) = $283.33\n",
            "*   **Total Discretionary Monthly Expenses:** $950\n",
            "\n",
            "**4. Savings Goals:**\n",
            "\n",
            "*   **Target Monthly Savings:** $1,200\n",
            "*   **Overall Savings Goal:** $10,000\n",
            "*   **Projected Time to Reach Goal:** 8 months (This implies a consistent savings rate and no additional income or expenses.)\n",
            "\n",
            "**5. Summary of Inconsistencies and Missing Data:**\n",
            "\n",
            "*   **Discrepancy in Discretionary Spending:** The provided breakdown of discretionary spending ($316.67 dining, $150 hobbies, $200 shopping) doesn't add up to the stated total of $950.  There is a slight discrepancy due to rounding of the one third calculation for dining out.  This should be clarified.\n",
            "\n",
            "*   **Missing Expense Categories:** The provided data lacks crucial expense categories like groceries, transportation, and healthcare.  These are significant expenses for most individuals and their absence creates an incomplete picture of the financial situation.  Including these would greatly improve the accuracy of the financial analysis.\n",
            "\n",
            "*   **Investment Details:**  While investment income is listed, there's no information on the type of investments, their risk profile, or their overall value. This is crucial for comprehensive financial planning.\n",
            "\n",
            "*   **Emergency Fund:** There is no mention of an emergency fund, which is a critical component of a sound financial plan.\n",
            "\n",
            "*   **Tax Considerations:** The provided data does not account for taxes, which will significantly impact the net income available for savings and spending.\n",
            "\n",
            "\n",
            "**Request for Clarification:**\n",
            "\n",
            "To improve the accuracy and completeness of this financial analysis, please provide the following information:\n",
            "\n",
            "1.  A more precise breakdown of discretionary spending, ensuring the components add up to the stated total.\n",
            "2.  Details on missing expense categories such as groceries, transportation, and healthcare.\n",
            "3.  Information about the type, value, and risk profile of your investments.\n",
            "4.  Details regarding your emergency fund (if any).\n",
            "5.  Information on tax liabilities.\n",
            "\n",
            "Providing this additional information will enable a more robust and accurate assessment of your current financial situation and future financial planning.\u001b[00m\n",
            "\n",
            "\n",
            "\u001b[1m\u001b[95m# Agent:\u001b[00m \u001b[1m\u001b[92mFinancial Analyst Specializing in Budget Allocation and Optimization.\u001b[00m\n",
            "\u001b[95m## Task:\u001b[00m \u001b[92mCreate a personalized budget plan based on the processed data. Utilize the 50/30/20 rule:1. Allocate 50% of income to needs (fixed expenses)2. Allocate 30% of income to wants (discretionary spending)3. Allocate 20% of income to savings and debt repaymentAdjust allocations based on the user's specific goals and financial situation.\u001b[00m\n",
            "\n",
            "\n",
            "\u001b[1m\u001b[95m# Agent:\u001b[00m \u001b[1m\u001b[92mFinancial Analyst Specializing in Budget Allocation and Optimization.\u001b[00m\n",
            "\u001b[95m## Final Answer:\u001b[00m \u001b[92m\n",
            "**Personalized Budget Plan**\n",
            "\n",
            "Based on the provided data, and acknowledging the significant gaps in information (detailed in the initial analysis), we can create a preliminary budget plan.  However, this plan will be significantly improved upon once the requested clarifications are provided.  This plan utilizes the 50/30/20 rule as a starting point, but adjustments will be necessary based on the missing data.\n",
            "\n",
            "**1. Income:**\n",
            "\n",
            "*   Salary: $5,000\n",
            "*   Freelance Work: $800\n",
            "*   Investments: $200\n",
            "*   **Total Monthly Income:** $6,000\n",
            "\n",
            "**2. Needs (50% of Income = $3,000):**\n",
            "\n",
            "*   Rent: $1,500\n",
            "*   Utilities: $200\n",
            "*   Internet & Phone: $100\n",
            "*   Insurance: $400\n",
            "*   Subscriptions: $50\n",
            "*   Loan Payments: $500\n",
            "*   **Total Current Needs:** $2,750\n",
            "*   **Remaining for Needs:** $250  (This will likely need to be allocated to missing categories like groceries, transportation, and healthcare once this data is provided.)\n",
            "\n",
            "\n",
            "**3. Wants (30% of Income = $1,800):**\n",
            "\n",
            "*   Dining Out: $316.67 (This is based on the provided data, but needs verification.)\n",
            "*   Hobbies & Entertainment: $150\n",
            "*   Shopping: $200\n",
            "*   Travel: $283.33 (This is based on the provided data, but needs verification.)\n",
            "*   **Total Current Wants:** $950\n",
            "*   **Remaining for Wants:** $850 (This can be allocated to other wants once those are specified)\n",
            "\n",
            "\n",
            "**4. Savings & Debt Repayment (20% of Income = $1,200):**\n",
            "\n",
            "*   Target Monthly Savings: $1,200\n",
            "*   **Current Allocation:** $1,200 (This meets the stated savings goal, but additional savings may be possible once a more complete budget is created.)\n",
            "\n",
            "\n",
            "**Summary of Adjustments Needed:**\n",
            "\n",
            "The current budget plan is incomplete due to missing data.  Significant adjustments are needed once the following information is provided:\n",
            "\n",
            "*   **Detailed Breakdown of Discretionary Spending:** A more precise breakdown of discretionary spending is crucial to accurately allocate the 30% for wants.\n",
            "*   **Missing Expense Categories:**  The budget must include realistic estimates for groceries, transportation, and healthcare. These are essential expenses, and their omission leads to an inaccurate representation of the financial situation.\n",
            "*   **Emergency Fund:**  An emergency fund should be established.  A typical recommendation is 3-6 months of living expenses.\n",
            "*   **Tax Liabilities:**  Taxes will reduce net income.  Accurately accounting for taxes is essential for realistic budget planning.\n",
            "*   **Investment Details:**  Understanding the type, risk profile, and value of investments allows for more informed financial decisions and improves the accuracy of the budget plan.\n",
            "\n",
            "**Revised Budget Plan (Illustrative):**\n",
            "\n",
            "Once the above information is provided, a revised budget will be created.  This revised budget will provide a more accurate and comprehensive picture of the user's financial situation. For example, if groceries are estimated at $500, transportation at $300, and healthcare at $200, the \"Needs\" category would require an additional $1050, reducing the amount available for \"Wants\" and potentially \"Savings\".  The exact reallocation will depend on the specifics of the missing data.\n",
            "\n",
            "This preliminary budget serves as a starting point.  A truly personalized and effective budget requires complete and accurate information.  Providing the requested clarifications will enable the creation of a significantly more robust and useful financial plan.\u001b[00m\n",
            "\n",
            "\n",
            "\u001b[1m\u001b[95m# Agent:\u001b[00m \u001b[1m\u001b[92mFinancial Advisor Specializing in Personalized Financial Guidance and Education.\u001b[00m\n",
            "\u001b[95m## Task:\u001b[00m \u001b[92mProvide actionable financial advice and recommendations. Includetips on reducing fixed expenses, managing discretionary spending,achieveing savings goals, and investment strategies for long-term financial health. Ensure the adviceis personalized and aligns with the user's financial aspirations.\u001b[00m\n",
            "\n",
            "\n",
            "\u001b[1m\u001b[95m# Agent:\u001b[00m \u001b[1m\u001b[92mFinancial Advisor Specializing in Personalized Financial Guidance and Education.\u001b[00m\n",
            "\u001b[95m## Final Answer:\u001b[00m \u001b[92m\n",
            "Let's work together to build a strong financial foundation.  The current budget is a good start, but we need more details to make it truly personalized and effective.  Once you provide the missing information (detailed breakdown of discretionary spending, groceries, transportation, healthcare costs, tax liabilities, and investment details), we can refine this plan significantly.\n",
            "\n",
            "In the meantime, here's a simplified approach using the 50/30/20 rule, acknowledging that adjustments will be necessary based on the missing data:\n",
            "\n",
            "**50/30/20 Budget Breakdown:**\n",
            "\n",
            "| Category          | Amount (Estimate) | Actionable Steps                                                                         |\n",
            "|----------------------|--------------------|-----------------------------------------------------------------------------------------|\n",
            "| **Needs (50%)**     | $3,000             | * **Track spending:**  Carefully monitor expenses in all \"Needs\" categories for one month. <br> * **Identify areas for reduction:** Look for opportunities to lower costs (e.g., cheaper insurance, negotiating bills). <br> * **Prioritize essentials:** Ensure basic needs (housing, food, transportation) are met before allocating funds elsewhere. |\n",
            "| Rent                | $1,500             | Explore options for lower rent if possible.                                             |\n",
            "| Utilities            | $200               | Reduce energy consumption to lower utility bills.                                        |\n",
            "| Internet & Phone    | $100               | Shop around for better deals on internet and phone services.                             |\n",
            "| Insurance           | $400               | Review insurance policies to ensure you have adequate coverage at the best price.          |\n",
            "| Subscriptions       | $50                | Cancel unnecessary subscriptions.                                                        |\n",
            "| Loan Payments       | $500               | Explore options for refinancing loans to lower interest rates.                           |\n",
            "| Groceries           | $500 (Estimate)    | Plan meals, buy in bulk when possible, and utilize coupons to reduce grocery costs.     |\n",
            "| Transportation      | $300 (Estimate)    | Use public transportation, carpool, or walk/bike whenever feasible.                    |\n",
            "| Healthcare          | $200 (Estimate)    | Explore options for lower-cost healthcare, such as generic medications or telehealth. |\n",
            "\n",
            "\n",
            "| **Wants (30%)**     | $1,800             | * **Track spending:**  Monitor spending in all \"Wants\" categories for one month. <br> * **Set spending limits:**  Allocate a specific amount for each want category. <br> * **Prioritize wants:** Focus on the wants that bring you the most joy and value.  |\n",
            "| Dining Out          | $316.67 (Estimate) | Limit dining out, cook more meals at home, or explore cheaper dining options.           |\n",
            "| Hobbies & Entertainment | $150               | Find free or low-cost entertainment options.                                            |\n",
            "| Shopping            | $200               | Avoid impulse purchases; create a shopping list and stick to it.                        |\n",
            "| Travel              | $283.33 (Estimate) | Plan trips in advance to find better deals and save money.                              |\n",
            "\n",
            "\n",
            "| **Savings & Debt Repayment (20%)** | $1,200             | * **Automate savings:** Set up automatic transfers to your savings account. <br> * **Prioritize debt repayment:**  Develop a strategy to pay down high-interest debt aggressively (e.g., snowball or avalanche method). <br> * **Emergency fund:** Aim to save 3-6 months' worth of living expenses.  |\n",
            "| Target Monthly Savings | $1,200             |                                                                                         |\n",
            "\n",
            "\n",
            "**Next Steps:**\n",
            "\n",
            "1.  **Provide missing data:** Share details about your discretionary spending, grocery costs, transportation, healthcare, taxes, and investments.\n",
            "2.  **Review and refine:** Once we have this information, we can create a more precise and personalized budget.\n",
            "3.  **Develop long-term financial goals:** Let's discuss your long-term financial aspirations (e.g., homeownership, retirement) to create a comprehensive financial plan.\n",
            "4.  **Investment strategy:** Based on your risk tolerance and goals, we can discuss appropriate investment strategies.\n",
            "\n",
            "Remember, building financial health is a journey, not a sprint. Let's work together to achieve your financial goals.\u001b[00m\n",
            "\n",
            "\n"
          ]
        }
      ],
      "source": [
        "### this execution will take a few minutes to run\n",
        "result = budget_planner_crew.kickoff(inputs={\"user_inputs\": user_inputs})"
      ]
    },
    {
      "cell_type": "markdown",
      "metadata": {
        "id": "uB8e9bVgAvT3"
      },
      "source": [
        "## 06. User Input: Enter Your Financial Information 💬💰\n",
        "\n",
        "Now, please provide your financial details to personalize the process. A budget plan based on your inputs will be created. 📝\n"
      ],
      "id": "uB8e9bVgAvT3"
    },
    {
      "cell_type": "code",
      "source": [
        "# Ask for user input\n",
        "user_input = input(\"Please enter your own financial information: \")\n",
        "test_result = budget_planner_crew.kickoff(inputs={\"user_inputs\": user_input})"
      ],
      "metadata": {
        "colab": {
          "base_uri": "https://localhost:8080/"
        },
        "id": "ywgt36Kq_IBo",
        "outputId": "ee1d4071-d063-4914-d1db-e9e51c2a85d5"
      },
      "id": "ywgt36Kq_IBo",
      "execution_count": 20,
      "outputs": [
        {
          "output_type": "stream",
          "name": "stdout",
          "text": [
            "Please enter your own financial information: I earn $3000 monthly, spend $1200 on rent, $300 on utilities, and $600 on hobbies.\n",
            "\u001b[1m\u001b[95m# Agent:\u001b[00m \u001b[1m\u001b[92mData Engineer for Financial Systems\u001b[00m\n",
            "\u001b[95m## Task:\u001b[00m \u001b[92mProcess and structure the financial information in I earn $3000 monthly, spend $1200 on rent, $300 on utilities, and $600 on hobbies.. Categorize data into:1. Income sources2. Fixed expenses3. Discretionary spending4. Savings goalsIdentify any gaps or inconsistencies in the data and request clarification if needed.\u001b[00m\n",
            "\n",
            "\n",
            "\u001b[1m\u001b[95m# Agent:\u001b[00m \u001b[1m\u001b[92mData Engineer for Financial Systems\u001b[00m\n",
            "\u001b[95m## Final Answer:\u001b[00m \u001b[92m\n",
            "**1. Income Sources:**\n",
            "\n",
            "*   Salary/Employment Income: $3000\n",
            "\n",
            "**2. Fixed Expenses:**\n",
            "\n",
            "*   Rent: $1200\n",
            "*   Utilities: $300\n",
            "\n",
            "**3. Discretionary Spending:**\n",
            "\n",
            "*   Hobbies: $600\n",
            "\n",
            "**4. Savings Goals:**\n",
            "\n",
            "*   No explicit savings goal is mentioned in the provided data.  This represents a significant gap in the information.  Further clarification is needed to determine savings targets, current savings balances, and investment strategies.  For example, are there any emergency funds, retirement contributions, or other savings plans?\n",
            "\n",
            "**5. Summary of Inconsistencies and Missing Data:**\n",
            "\n",
            "*   **Missing Savings Information:** The most significant gap is the absence of any data related to savings, investments, or debt.  Understanding these aspects is crucial for a complete financial picture.  To proceed with comprehensive financial analysis and planning, information on savings accounts, investment accounts, debt obligations (e.g., loans, credit cards), and savings goals is required.\n",
            "*   **Unspecified Expenses:** The provided data only includes rent, utilities, and hobbies.  Many other essential expenses are missing, such as groceries, transportation, healthcare, insurance (health, car, life, etc.), and entertainment.  A more detailed breakdown of spending is necessary for accurate budgeting and financial planning.\n",
            "*   **Potential for Inconsistent Data:** While the provided numbers seem internally consistent, there's no way to verify their accuracy without additional supporting documentation (e.g., bank statements, pay stubs).  It's possible the numbers represent estimates rather than precise figures.\n",
            "\n",
            "\n",
            "**Clarification Needed:**\n",
            "\n",
            "To improve the accuracy and completeness of the financial data, please provide the following information:\n",
            "\n",
            "*   Details on current savings and investments (amounts, types of accounts).\n",
            "*   A more comprehensive list of monthly expenses, including categories and amounts.\n",
            "*   Details on any debt obligations (loans, credit cards, etc.).\n",
            "*   Information about savings goals (e.g., emergency fund target, retirement savings plan).\n",
            "*   Confirmation of the accuracy of the provided income and expense figures.\n",
            "\n",
            "Once this information is provided, a more robust and reliable financial analysis can be performed.\u001b[00m\n",
            "\n",
            "\n",
            "\u001b[1m\u001b[95m# Agent:\u001b[00m \u001b[1m\u001b[92mFinancial Analyst Specializing in Budget Allocation and Optimization.\u001b[00m\n",
            "\u001b[95m## Task:\u001b[00m \u001b[92mCreate a personalized budget plan based on the processed data. Utilize the 50/30/20 rule:1. Allocate 50% of income to needs (fixed expenses)2. Allocate 30% of income to wants (discretionary spending)3. Allocate 20% of income to savings and debt repaymentAdjust allocations based on the user's specific goals and financial situation.\u001b[00m\n",
            "\n",
            "\n",
            "\u001b[1m\u001b[95m# Agent:\u001b[00m \u001b[1m\u001b[92mFinancial Analyst Specializing in Budget Allocation and Optimization.\u001b[00m\n",
            "\u001b[95m## Final Answer:\u001b[00m \u001b[92m\n",
            "**Personalized Budget Plan**\n",
            "\n",
            "This budget plan is based on the limited data provided and utilizes the 50/30/20 rule as a guideline.  However, due to significant missing information (detailed in the previous analysis), this plan is incomplete and should be considered a preliminary estimate.  **Significant adjustments will be necessary once the missing data is provided.**\n",
            "\n",
            "**Income:**\n",
            "\n",
            "* Salary/Employment Income: $3000\n",
            "\n",
            "**Budget Allocation (Based on Incomplete Data):**\n",
            "\n",
            "The following allocation is based on the limited data provided and may not reflect a realistic or optimal budget.  Significant adjustments will be needed once complete financial information is available.\n",
            "\n",
            "\n",
            "* **Needs (50%):** $1500\n",
            "    * Rent: $1200\n",
            "    * Utilities: $300\n",
            "    * **Remaining for Needs:** $0  (This indicates a significant shortfall.  Additional needs such as groceries, transportation, healthcare, and insurance are missing and must be included. This category will need a substantial increase once further expenses are identified.)\n",
            "\n",
            "* **Wants (30%):** $900\n",
            "    * Hobbies: $600\n",
            "    * **Remaining for Wants:** $300 (This can be allocated to other discretionary spending like entertainment, dining out, etc., once those needs are identified.)\n",
            "\n",
            "* **Savings & Debt Repayment (20%):** $600\n",
            "    * **Savings:** $600 (This assumes no debt repayment is currently necessary.  This amount is placeholder and will require significant adjustment based on outstanding debts and savings goals.)\n",
            "\n",
            "\n",
            "**Summary of Adjustments Needed:**\n",
            "\n",
            "The current budget is severely incomplete and unrealistic due to the absence of critical financial data.  To create a truly personalized and effective budget, the following adjustments are absolutely necessary:\n",
            "\n",
            "1. **Comprehensive Expense Tracking:**  A thorough review of all monthly expenses is crucial.  This includes groceries, transportation, healthcare, insurance (health, car, life), entertainment, debt payments, and any other recurring expenses.\n",
            "\n",
            "2. **Savings Goal Definition:**  Clear savings goals need to be established.  This should include targets for emergency funds, retirement savings, and any other specific savings objectives (e.g., down payment on a house, vacation fund).\n",
            "\n",
            "3. **Debt Management Strategy:**  Details on any outstanding debt (loans, credit cards) are needed to determine a realistic debt repayment plan.  This will significantly impact the allocation to the \"Savings & Debt Repayment\" category.\n",
            "\n",
            "4. **Data Verification:**  Confirmation of the accuracy of the provided income and expense figures is essential to ensure the budget's reliability.  Supporting documentation (e.g., bank statements, pay stubs) would be beneficial.\n",
            "\n",
            "\n",
            "**Once the above information is provided, a revised and accurate budget plan can be created that aligns with the user's financial goals and situation.**  This preliminary budget serves only as a starting point and is far from a complete and useful financial plan.\u001b[00m\n",
            "\n",
            "\n",
            "\u001b[1m\u001b[95m# Agent:\u001b[00m \u001b[1m\u001b[92mFinancial Advisor Specializing in Personalized Financial Guidance and Education.\u001b[00m\n",
            "\u001b[95m## Task:\u001b[00m \u001b[92mProvide actionable financial advice and recommendations. Includetips on reducing fixed expenses, managing discretionary spending,achieveing savings goals, and investment strategies for long-term financial health. Ensure the adviceis personalized and aligns with the user's financial aspirations.\u001b[00m\n",
            "\n",
            "\n",
            "\u001b[1m\u001b[95m# Agent:\u001b[00m \u001b[1m\u001b[92mFinancial Advisor Specializing in Personalized Financial Guidance and Education.\u001b[00m\n",
            "\u001b[95m## Final Answer:\u001b[00m \u001b[92m\n",
            "Based on the limited information provided, this is a preliminary budget plan.  A truly personalized plan requires detailed information about your expenses and financial goals.  However, we can use the 50/30/20 rule as a framework to illustrate how to create a budget and identify areas for improvement.  **You MUST track your expenses for at least one month to accurately reflect your spending habits before finalizing your budget.**\n",
            "\n",
            "**Understanding the 50/30/20 Budget Rule:**\n",
            "\n",
            "This rule divides your after-tax income into three categories:\n",
            "\n",
            "* **50% Needs:** Essential expenses for survival.\n",
            "* **30% Wants:** Non-essential expenses that improve your quality of life.\n",
            "* **20% Savings & Debt Repayment:**  Money set aside for future goals and debt reduction.\n",
            "\n",
            "**Preliminary Budget (Based on $3000 Income – Requires Significant Adjustment):**\n",
            "\n",
            "| Category             | Amount      | Actionable Steps                                                                                                                                                              |\n",
            "|----------------------|-------------|------------------------------------------------------------------------------------------------------------------------------------------------------------------------------------|\n",
            "| **Needs (50%)**       | $1500       | **1. Track Expenses:**  Record every expense for one month.  Categorize them into needs (housing, utilities, groceries, transportation, healthcare, insurance).  <br> **2. Adjust Budget:**  Once you have accurate data, adjust the amounts in this category to reflect your actual spending.  Look for areas to cut back. |\n",
            "| Rent                 | $1200       | Negotiate a lower rent or consider moving to a more affordable place.                                                                                                                   |\n",
            "| Utilities            | $300        | Reduce energy consumption (lower thermostat, turn off lights). Explore cheaper energy providers.                                                                                      |\n",
            "| Groceries            |  $0 (Placeholder) | Track grocery spending and identify areas to cut back. Plan meals, use coupons, buy in bulk (when appropriate).                                                                        |\n",
            "| Transportation       | $0 (Placeholder) | Use public transport, carpool, walk or bike whenever possible.                                                                                                                       |\n",
            "| Healthcare/Insurance | $0 (Placeholder) | Explore different insurance plans. Utilize generic medications when possible.                                                                                                          |\n",
            "| Other Needs          | $0 (Placeholder) | Identify and budget for other essential expenses.                                                                                                                                   |\n",
            "| **Wants (30%)**      | $900        | **1. Track Expenses:**  Record all discretionary spending (eating out, entertainment, hobbies). <br> **2. Prioritize Wants:** Identify which wants bring you the most value and cut back on others. |\n",
            "| Hobbies              | $600        | Find free or low-cost hobbies.                                                                                                                                                      |\n",
            "| Entertainment        | $0 (Placeholder) | Limit dining out, explore free entertainment options (parks, libraries).                                                                                                                  |\n",
            "| Other Wants          | $300 (Placeholder) | Adjust based on your actual spending.                                                                                                                                               |\n",
            "| **Savings & Debt (20%)** | $600        | **1. Define Goals:** Determine your savings goals (emergency fund, down payment, retirement). <br> **2. Prioritize Debt:** If you have debt, allocate more to debt repayment. <br> **3. Automate Savings:** Set up automatic transfers to your savings accounts. |\n",
            "| Savings              | $600 (Placeholder) | Adjust based on savings goals and debt repayment needs.                                                                                                                               |\n",
            "| Debt Repayment       | $0 (Placeholder) | Create a debt repayment plan (e.g., snowball or avalanche method).                                                                                                                  |\n",
            "\n",
            "\n",
            "**Next Steps:**\n",
            "\n",
            "1. **Track your spending:**  This is crucial for accurate budgeting.\n",
            "2. **Identify your financial goals:**  Short-term (emergency fund) and long-term (retirement).\n",
            "3. **Revise your budget:**  Use the tracked expenses to create a realistic budget.\n",
            "4. **Seek professional advice:**  Consider consulting a financial advisor for personalized guidance.\n",
            "\n",
            "\n",
            "This revised budget is still a placeholder.  Accurate budgeting requires detailed expense tracking and a clear understanding of your financial goals. The actionable steps provided are designed to guide you through this process.  Remember, consistency and discipline are key to achieving your financial well-being.\u001b[00m\n",
            "\n",
            "\n"
          ]
        }
      ]
    }
  ],
  "metadata": {
    "kernelspec": {
      "display_name": "Python 3.12.1",
      "language": "python",
      "name": "python312"
    },
    "language_info": {
      "codemirror_mode": {
        "name": "ipython",
        "version": 3
      },
      "file_extension": ".py",
      "mimetype": "text/x-python",
      "name": "python",
      "nbconvert_exporter": "python",
      "pygments_lexer": "ipython3",
      "version": "3.12.3"
    },
    "colab": {
      "provenance": []
    }
  },
  "nbformat": 4,
  "nbformat_minor": 5
}