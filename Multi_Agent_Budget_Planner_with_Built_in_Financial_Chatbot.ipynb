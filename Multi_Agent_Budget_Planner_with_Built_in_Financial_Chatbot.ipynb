{
  "cells": [
    {
      "cell_type": "markdown",
      "metadata": {
        "id": "view-in-github",
        "colab_type": "text"
      },
      "source": [
        "<a href=\"https://colab.research.google.com/github/Hiba-Chaabnia/Finance-Chatbot-Budget-Planner/blob/main/Multi_Agent_Budget_Planner_with_Built_in_Financial_Chatbot.ipynb\" target=\"_parent\"><img src=\"https://colab.research.google.com/assets/colab-badge.svg\" alt=\"Open In Colab\"/></a>"
      ]
    },
    {
      "cell_type": "markdown",
      "source": [
        "[![Open in Colab](https://colab.research.google.com/assets/colab-badge.svg)](https://colab.research.google.com/drive/1Pw1NIj8AzjlUmy0hVL2nSR1VidMy-MG_?authuser=1#scrollTo=UzSZdG1cYkwh)\n"
      ],
      "metadata": {
        "id": "UzSZdG1cYkwh"
      },
      "id": "UzSZdG1cYkwh"
    },
    {
      "cell_type": "markdown",
      "source": [
        "# Multi-Agent Budget Planner with Built-in Financial Chatbot\n",
        "\n",
        "### **Project Overview**\n",
        "This project implements an intelligent budget planning system that leverages multiple AI agents to provide personalized financial guidance. Built using the `CrewAI` framework and powered by `Google's Gemini 1.5 Flash` model, the system creates a collaborative environment where specialized AI agents work together to deliver comprehensive financial planning services.\n",
        "\n",
        "### **System Architecture**\n",
        "The system consists of four specialized AI agents:\n",
        "1. **Financial Interviewer (Chatbot)**: Simulates user interactions to test data collection processes\n",
        "2. **Information Extractor**: Processes and structures financial data\n",
        "3. **Financial Analyst**: Creates personalized budget plans\n",
        "4. **Financial Advisor**: Provides actionable financial recommendations\n",
        "\n",
        "![Multi-Agent Budget Planner with Built-in Financial Chatbot System Architecture](https://drive.google.com/uc?export=view&id=1mCxsyuHsvzL2zFqc0uHMZTf3Pc9xh5JJ)\n",
        "\n"
      ],
      "metadata": {
        "id": "6_yWjFalrwQH"
      },
      "id": "6_yWjFalrwQH"
    },
    {
      "cell_type": "markdown",
      "id": "60c4ea1b-add1-43c9-904b-2a06297adc3b",
      "metadata": {
        "id": "60c4ea1b-add1-43c9-904b-2a06297adc3b"
      },
      "source": [
        "##01. Envirorment Setup\n",
        "\n",
        "⚠️ CrewAI requires Python version >=3.10 and <=3.13\n"
      ]
    },
    {
      "cell_type": "code",
      "execution_count": 2,
      "id": "5ceaf4ea-01e5-41ba-9724-49eb6639938e",
      "metadata": {
        "colab": {
          "base_uri": "https://localhost:8080/"
        },
        "id": "5ceaf4ea-01e5-41ba-9724-49eb6639938e",
        "outputId": "e5ae1168-9ff3-4ce4-90d6-cecd23ea47ab"
      },
      "outputs": [
        {
          "output_type": "stream",
          "name": "stdout",
          "text": [
            "3.10.12 (main, Nov  6 2024, 20:22:13) [GCC 11.4.0]\n"
          ]
        }
      ],
      "source": [
        "import sys\n",
        "print(sys.version)"
      ]
    },
    {
      "cell_type": "markdown",
      "source": [
        "📦 Installing the necessary libraries for the project"
      ],
      "metadata": {
        "id": "Ra54ojgL0sC_"
      },
      "id": "Ra54ojgL0sC_"
    },
    {
      "cell_type": "code",
      "execution_count": 3,
      "id": "725af8ae-cf2c-4930-9436-79e5adce52d5",
      "metadata": {
        "scrolled": true,
        "id": "725af8ae-cf2c-4930-9436-79e5adce52d5"
      },
      "outputs": [],
      "source": [
        "!pip install crewai crewai_tools langchain &>/dev/null"
      ]
    },
    {
      "cell_type": "markdown",
      "id": "9f8a52ce-1972-462e-8763-fcfd40c7b192",
      "metadata": {
        "id": "9f8a52ce-1972-462e-8763-fcfd40c7b192"
      },
      "source": [
        "## 02. Importing Libraries"
      ]
    },
    {
      "cell_type": "code",
      "execution_count": 4,
      "id": "6ed03e05-c49f-48fb-bb58-320b8342a372",
      "metadata": {
        "id": "6ed03e05-c49f-48fb-bb58-320b8342a372"
      },
      "outputs": [],
      "source": [
        "from crewai import Agent, Task, Crew, LLM"
      ]
    },
    {
      "cell_type": "markdown",
      "source": [
        "🔒 Retrieving the Gemini API from the environment variable, follow these step-by-step instructions:\n",
        "\n",
        "1. Generate the API Key:\n",
        "   - If you haven’t created an API key yet, visit [aistudio.google.com](https://aistudio.google.com) to generate one.\n",
        "\n",
        "2. Add the API Key in Google Colab:\n",
        "   - In your Google Colab notebook, click on the key (secret) icon 🔑 on the left sidebar.\n",
        "   - Click on the \"Add new secret\" button.\n",
        "   - Name the secret `GEMINI_API_KEY`.\n",
        "   - Paste your generated API key into the Value field.\n",
        "   - Toggle the Notebook Access."
      ],
      "metadata": {
        "id": "nwTW59IY8J2b"
      },
      "id": "nwTW59IY8J2b"
    },
    {
      "cell_type": "code",
      "source": [
        "from google.colab import userdata\n",
        "GEMINI_API_KEY=userdata.get('GEMINI_API_KEY')"
      ],
      "metadata": {
        "id": "XClF2cF93VCX"
      },
      "id": "XClF2cF93VCX",
      "execution_count": 5,
      "outputs": []
    },
    {
      "cell_type": "markdown",
      "source": [
        "🦜 Initializing the Gemini 1.5 Flash model"
      ],
      "metadata": {
        "id": "JJ_E8uz-9GE8"
      },
      "id": "JJ_E8uz-9GE8"
    },
    {
      "cell_type": "code",
      "source": [
        "gemini_model = LLM (model='gemini/gemini-1.5-flash',\n",
        "                    temperature=0.7,\n",
        "                    api_key= GEMINI_API_KEY)"
      ],
      "metadata": {
        "id": "LRMBK7R2R9Y6"
      },
      "id": "LRMBK7R2R9Y6",
      "execution_count": 6,
      "outputs": []
    },
    {
      "cell_type": "code",
      "execution_count": 7,
      "id": "c2512ae4-c543-4a0d-8751-c5d4cfed9d75",
      "metadata": {
        "id": "c2512ae4-c543-4a0d-8751-c5d4cfed9d75"
      },
      "outputs": [],
      "source": [
        "# Warning control\n",
        "import warnings\n",
        "warnings.filterwarnings('ignore')"
      ]
    },
    {
      "cell_type": "markdown",
      "id": "564e07a4-2c35-4c8a-8386-7dabc7439bc5",
      "metadata": {
        "id": "564e07a4-2c35-4c8a-8386-7dabc7439bc5"
      },
      "source": [
        "## 03. Creating Agents\n",
        "\n",
        "In this step, we'll create instances of the `Agent` class, each with specific properties that define their role, goal, and backstory:\n",
        "\n",
        "- **`role`**: The agent's function within the crew 🛠️\n",
        "- **`goal`**: The agent's objective, guiding their decision-making 🎯\n",
        "- **`backstory`**: Provides context to the agent's role and goal, enhancing interactions and collaboration 📖"
      ]
    },
    {
      "cell_type": "markdown",
      "source": [
        "### Agent 1 : Financial Interviewer 💬💰\n"
      ],
      "metadata": {
        "id": "pfSGxLx5cScW"
      },
      "id": "pfSGxLx5cScW"
    },
    {
      "cell_type": "code",
      "execution_count": 24,
      "id": "3d49a805-50a1-470f-9b18-d1b42e008cb1",
      "metadata": {
        "id": "3d49a805-50a1-470f-9b18-d1b42e008cb1"
      },
      "outputs": [],
      "source": [
        "Financial_Interviewer = Agent(\n",
        "    role=\"Chatbot Interaction Designer specialized in Personal Finance\",\n",
        "\n",
        "    goal=\"Create an engaging, user-friendly chatbot to collect detailed \"\n",
        "         \"financial information from users, including monthly income,\"\n",
        "         \"fixed expenses, discretionary spending, and savings goals.\"\n",
        "         \"Ensure all questions are clear and responses are properly validated.\"\n",
        "         \"If there is no user input, generate one yourself\",\n",
        "\n",
        "    backstory=(\n",
        "        \"As a Chatbot Interaction Designer, you have previously worked on \"\n",
        "        \"developing customer-facing chatbots for banks and personal finance apps.\"\n",
        "        \"You excel at understanding user pain points and crafting questions \"\n",
        "        \"that make financial less intimidating. Your experience with\"\n",
        "        \"handling sensitive data ensures that the system is secure \"\n",
        "        \"and compliant with privacy regulations. \"),\n",
        "\n",
        "    llm = gemini_model,\n",
        "    verbose = True,\n",
        "    memory=True\n",
        ")"
      ]
    },
    {
      "cell_type": "markdown",
      "source": [
        "### Agent 2: Information Extractor 💼📊"
      ],
      "metadata": {
        "id": "S9oXQtGkl7Id"
      },
      "id": "S9oXQtGkl7Id"
    },
    {
      "cell_type": "code",
      "execution_count": 25,
      "id": "cfe06ce8-a00c-4579-af68-a17eca183c16",
      "metadata": {
        "id": "cfe06ce8-a00c-4579-af68-a17eca183c16"
      },
      "outputs": [],
      "source": [
        "Information_Extractor = Agent(\n",
        "    role=\"Data Engineer for Financial Systems\",\n",
        "\n",
        "    goal=\"Process and structure user inputs into\"\n",
        "         \"categorized data, identifying gaps or inconsistencies.\"\n",
        "         \"Ensure accuracy and completeness for subsequent calculations.\",\n",
        "\n",
        "    backstory=(\n",
        "        \"You have a strong background in financial data \"\n",
        "        \"processing, having previously worked on systems that categorize and \"\n",
        "        \"validate transactions for budgeting apps like Mint. Your expertise \"\n",
        "        \"in data pipelines and natural language processing makes you adept at \"\n",
        "        \"handling unstructured text and converting it into actionable information.\"\n",
        "    ),\n",
        "\n",
        "    llm = gemini_model,\n",
        "    allow_delegration=False,\n",
        "    verbose=True,\n",
        "    memory=True\n",
        ")"
      ]
    },
    {
      "cell_type": "markdown",
      "source": [
        "### Agent 3: Financial Analyst 💰📈"
      ],
      "metadata": {
        "id": "qnIqazCqhbgU"
      },
      "id": "qnIqazCqhbgU"
    },
    {
      "cell_type": "code",
      "execution_count": 26,
      "id": "91b74152-e86c-47e5-9bc4-291e1479df3e",
      "metadata": {
        "id": "91b74152-e86c-47e5-9bc4-291e1479df3e"
      },
      "outputs": [],
      "source": [
        "Financial_Analyst = Agent(\n",
        "    role=\"Financial Analyst Specializing in Budget Allocation and Optimization.\",\n",
        "    goal=\"Create a personalized budget plan that aligns with the user's \"\n",
        "         \"needs, wants, and financial aspirations.\"\n",
        "         \"Utilize the 50/30/20 rule as a foundation. \",\n",
        "\n",
        "    backstory=(\n",
        "        \"With a vast knowledge of financial planning principles, \"\n",
        "        \"budgeting methodologies, and investment strategies, you excel at \"\n",
        "        \"analyzing complex financial scenarios, identifying potential risks \"\n",
        "        \"and rewards, and recommend optimal budget allocations\"\n",
        "        \"to help users achieve their financial goals.\"),\n",
        "\n",
        "    llm = gemini_model,\n",
        "    allow_delegration=False,\n",
        "    verbose=True,\n",
        ")"
      ]
    },
    {
      "cell_type": "markdown",
      "source": [
        "### Agent 4: Financial Advisor 💡💵"
      ],
      "metadata": {
        "id": "HhxjIqMOiu_B"
      },
      "id": "HhxjIqMOiu_B"
    },
    {
      "cell_type": "code",
      "execution_count": 27,
      "id": "d102537d-8e21-4a8f-b96c-ddc76fd7870f",
      "metadata": {
        "id": "d102537d-8e21-4a8f-b96c-ddc76fd7870f"
      },
      "outputs": [],
      "source": [
        "Financial_Advisor = Agent(\n",
        "    role=\"Financial Advisor Specializing in \"\n",
        "         \"Personalized Financial Guidance and Education.\",\n",
        "\n",
        "    goal=\"Empower users to make informed financial choices \"\n",
        "         \"and achieve their financial goals by providing them \"\n",
        "         \"with actionable financial advice and personalized recommendations\",\n",
        "\n",
        "    backstory=(\n",
        "        \"As a compassionate and knowledgeable financial advisor, you\"\n",
        "        \"are passionate about helping others improve their financial well-being. \"\n",
        "        \"You possess excellent communication and interpersonal skills, \"\n",
        "        \" enabling you to build strong relationships with users \"\n",
        "        \"and provide clear, actionable advice.\"),\n",
        "\n",
        "    llm = gemini_model,\n",
        "    allow_delegration=False,\n",
        "    verbose=True,\n",
        ")"
      ]
    },
    {
      "cell_type": "markdown",
      "id": "ff20d2ef-cd03-4581-8fed-3ea4893f784c",
      "metadata": {
        "id": "ff20d2ef-cd03-4581-8fed-3ea4893f784c"
      },
      "source": [
        "## 04. Creating Tasks\n",
        "\n",
        "Now, it's time to define the **tasks**! Tasks are specific assignments for agents and provide all the details they need to execute them successfully.\n",
        "\n",
        "Each task includes:\n",
        "\n",
        "- **`description`**: What the task is all about 📝\n",
        "- **`expected_output`**: What the outcome should look like 🎯\n",
        "- **`agent`**: The agent responsible for completing the task 🤖"
      ]
    },
    {
      "cell_type": "markdown",
      "source": [
        "### Task for Financial Interviewer Agent: Collect Financial Information"
      ],
      "metadata": {
        "id": "OIBhzNvA5scw"
      },
      "id": "OIBhzNvA5scw"
    },
    {
      "cell_type": "code",
      "execution_count": 28,
      "id": "d3902c21-9fb5-47fc-9a88-01cb7f543739",
      "metadata": {
        "id": "d3902c21-9fb5-47fc-9a88-01cb7f543739"
      },
      "outputs": [],
      "source": [
        "collect_financial_info = Task(\n",
        "\n",
        "    description=(\n",
        "        \"Collect detailed financial information from the user. Ask questions about:\"\n",
        "        \"1. Monthly income (salary, freelance earnings, rental income, etc.)\"\n",
        "        \"2. Fixed expenses (rent/mortgage, utilities, insurance, etc.)\"\n",
        "        \"3. Discretionary spending (dining out, entertainment, hobbies, etc.)\"\n",
        "        \"4. Savings goals (emergency fund, retirement, vacation, etc.)\"\n",
        "        \"Ensure all responses are validated for completeness and accuracy.\"\n",
        "    ),\n",
        "\n",
        "    expected_output=(\n",
        "        \"A structured summary including:\"\n",
        "        \"1. Income details (e.g., salary, freelance earnings).\"\n",
        "        \"2. Expense breakdown (e.g., rent, groceries).\"\n",
        "        \"3. Savings and investments.\"\n",
        "        \"4. Financial goals and timelines.\"),\n",
        "\n",
        "    agent=Financial_Interviewer,\n",
        "\n",
        ")"
      ]
    },
    {
      "cell_type": "markdown",
      "source": [
        "### Task for Information Extractor Agent: Process Financial Data"
      ],
      "metadata": {
        "id": "Tlx6_gsq_vrw"
      },
      "id": "Tlx6_gsq_vrw"
    },
    {
      "cell_type": "markdown",
      "id": "010c0be1-a854-4a51-b8c0-d65891038ceb",
      "metadata": {
        "id": "010c0be1-a854-4a51-b8c0-d65891038ceb"
      },
      "source": [
        "- A **list of tasks** can be passed as `context` to another task 🔗\n",
        "- The task will **consider the outputs** of the tasks in the list during its execution 🛠️\n",
        "- The task will **not run** until it has received the necessary output(s) from those tasks ⏳"
      ]
    },
    {
      "cell_type": "code",
      "execution_count": 29,
      "id": "0d9bec12-fef9-472c-a4f8-a341c4d72cd1",
      "metadata": {
        "id": "0d9bec12-fef9-472c-a4f8-a341c4d72cd1"
      },
      "outputs": [],
      "source": [
        "process_financial_data = Task(\n",
        "    description=(\n",
        "        \"Process and structure the collected financial information. Categorize data into:\"\n",
        "        \"1. Income sources\"\n",
        "        \"2. Fixed expenses\"\n",
        "        \"3. Discretionary spending\"\n",
        "        \"4. Savings goals\"\n",
        "        \"Identify any gaps or inconsistencies in the data and request clarification if needed.\"\n",
        "    ),\n",
        "\n",
        "    expected_output=(\n",
        "        \"The output should provide the following structured details:\"\n",
        "        \"1. A categorized list of income sources (e.g., salary, freelance, rental income).\"\n",
        "        \"2. Fixed expenses categorized by type (e.g., rent, utilities, insurance).\"\n",
        "        \"3. Variable expenses categorized by type (e.g., groceries, entertainment).\"\n",
        "        \"4. Details of current savings and investments (e.g., bank savings, stocks, bonds).\"\n",
        "        \"5. A summary highlighting inconsistencies, missing data, or anomalies in the financial information.\"\n",
        "        ),\n",
        "\n",
        "    context= [collect_financial_info],\n",
        "    agent= Information_Extractor ,\n",
        "\n",
        ")"
      ]
    },
    {
      "cell_type": "markdown",
      "source": [
        "### Task for Financial Analyst Agent: Create Budget Plan"
      ],
      "metadata": {
        "id": "n0ftfOgrAwt1"
      },
      "id": "n0ftfOgrAwt1"
    },
    {
      "cell_type": "code",
      "execution_count": 30,
      "id": "8736e4d9-8122-45aa-b448-6080635ab2a9",
      "metadata": {
        "id": "8736e4d9-8122-45aa-b448-6080635ab2a9"
      },
      "outputs": [],
      "source": [
        "create_budget_plan = Task(\n",
        "    description=(\n",
        "        \"Create a personalized budget plan based on the processed data. Utilize the 50/30/20 rule:\"\n",
        "        \"1. Allocate 50% of income to needs (fixed expenses)\"\n",
        "        \"2. Allocate 30% of income to wants (discretionary spending)\"\n",
        "        \"3. Allocate 20% of income to savings and debt repayment\"\n",
        "        \"Adjust allocations based on the user's specific goals and financial situation.\"),\n",
        "\n",
        "    expected_output=(\n",
        "        \"The output should include: \"\n",
        "        \"- A detailed budget plan with allocations as per the 50/30/20 rule. \"\n",
        "        \"- Needs: 50% of income allocated to fixed expenses. \"\n",
        "        \"- Wants: 30% of income allocated to discretionary spending. \"\n",
        "        \"- Savings: 20% of income allocated for savings and investments. \"\n",
        "        \"- A summary highlighting any adjustments needed.\"\n",
        "    ),\n",
        "\n",
        "    context=[process_financial_data],\n",
        "    agent= Financial_Analyst\n",
        ")"
      ]
    },
    {
      "cell_type": "markdown",
      "source": [
        "### Task for Financial Advisor Agent: Provide Financial Advice"
      ],
      "metadata": {
        "id": "KpGZ7-g3BaBS"
      },
      "id": "KpGZ7-g3BaBS"
    },
    {
      "cell_type": "code",
      "execution_count": 31,
      "id": "dbc9d3ed-7472-4ed5-b87c-e3fce16002f6",
      "metadata": {
        "id": "dbc9d3ed-7472-4ed5-b87c-e3fce16002f6"
      },
      "outputs": [],
      "source": [
        "provide_financial_advice = Task(\n",
        "    description=(\n",
        "        \"Provide actionable financial advice and recommendations. Include\"\n",
        "        \"tips on reducing fixed expenses, managing discretionary spending, \"\n",
        "        \"achieveing savings goals, and investment strategies for \"\n",
        "        \"long-term financial health. Ensure the advice\"\n",
        "        \"is personalized and aligns with the user's financial aspirations.\"\n",
        "    ),\n",
        "\n",
        "    expected_output=(\n",
        "        \"Personalized advice and steps for improving financial\"\n",
        "        \"well-being.\"\n",
        "    ),\n",
        "\n",
        "    context=[create_budget_plan],\n",
        "    agent= Financial_Advisor\n",
        ")\n"
      ]
    },
    {
      "cell_type": "markdown",
      "id": "3e43980d-b69a-4bcd-b1c6-d8a01dad5e4a",
      "metadata": {
        "id": "3e43980d-b69a-4bcd-b1c6-d8a01dad5e4a"
      },
      "source": [
        "## 05. Forming Crew\n",
        "\n",
        "The **crew** is a group of AI agents working together to complete a set of tasks.\n",
        "\n",
        "A crew is defined by:\n",
        "\n",
        "- **`tasks`**: A list of tasks to be performed 📝\n",
        "- **`agents`**: A list of the agents involved 🤖\n",
        "- **`verbose=True`**: Allows you to see all execution logs for full transparency 🖥️"
      ]
    },
    {
      "cell_type": "code",
      "execution_count": 32,
      "id": "efc34cea-ba50-477e-a264-f4cb825f2e7e",
      "metadata": {
        "id": "efc34cea-ba50-477e-a264-f4cb825f2e7e",
        "colab": {
          "base_uri": "https://localhost:8080/"
        },
        "outputId": "84425d36-7c9e-407a-dd6d-9434c0f4788e"
      },
      "outputs": [
        {
          "output_type": "stream",
          "name": "stderr",
          "text": [
            "WARNING:opentelemetry.trace:Overriding of current TracerProvider is not allowed\n"
          ]
        }
      ],
      "source": [
        "budget_planner_crew  = Crew(\n",
        "    agents=[Financial_Interviewer, Information_Extractor, Financial_Analyst, Financial_Advisor],\n",
        "    tasks=[collect_financial_info, process_financial_data, create_budget_plan, provide_financial_advice],\n",
        "    verbose=True\n",
        ")"
      ]
    },
    {
      "cell_type": "markdown",
      "id": "f18db8cf-a308-4f65-9fff-1363f64da0eb",
      "metadata": {
        "id": "f18db8cf-a308-4f65-9fff-1363f64da0eb"
      },
      "source": [
        "### Kicking off the crew\n",
        "\n",
        "⏰ This execution will take a few minutes to run"
      ]
    },
    {
      "cell_type": "code",
      "execution_count": 33,
      "id": "9c490189-f0a4-4ac0-b924-545450e8bff6",
      "metadata": {
        "scrolled": true,
        "id": "9c490189-f0a4-4ac0-b924-545450e8bff6",
        "outputId": "d3d04072-897c-4d5c-9fe8-14921e53aadb",
        "colab": {
          "base_uri": "https://localhost:8080/"
        }
      },
      "outputs": [
        {
          "output_type": "stream",
          "name": "stdout",
          "text": [
            "\u001b[1m\u001b[95m# Agent:\u001b[00m \u001b[1m\u001b[92mChatbot Interaction Designer specialized in Personal Finance\u001b[00m\n",
            "\u001b[95m## Task:\u001b[00m \u001b[92mCollect detailed financial information from the user. Ask questions about:1. Monthly income (salary, freelance earnings, rental income, etc.)2. Fixed expenses (rent/mortgage, utilities, insurance, etc.)3. Discretionary spending (dining out, entertainment, hobbies, etc.)4. Savings goals (emergency fund, retirement, vacation, etc.)Ensure all responses are validated for completeness and accuracy.\u001b[00m\n",
            "\n",
            "\n",
            "\u001b[1m\u001b[95m# Agent:\u001b[00m \u001b[1m\u001b[92mChatbot Interaction Designer specialized in Personal Finance\u001b[00m\n",
            "\u001b[95m## Final Answer:\u001b[00m \u001b[92m\n",
            "Hi there! Let's get a clearer picture of your finances.  Don't worry, this is completely confidential and will help us tailor advice to your specific situation.  We'll start with your income.\n",
            "\n",
            "**1. Income:**\n",
            "\n",
            "* **What is your approximate monthly salary or wage from your primary employment?** (Please enter a numerical value, e.g., 3000)\n",
            "* *Validation:* Checks if the input is a number and greater than 0. If not, prompts: \"Please enter a valid numerical value for your monthly salary.\"  If no input, defaults to 2500.\n",
            "\n",
            "* **Do you have any other sources of income? (e.g., freelance work, rental income, investments)?** (Yes/No)\n",
            "    * If Yes:\n",
            "        * **Please specify the source and approximate monthly amount for each additional income stream.** (e.g., Freelance Writing: $500, Rental Income: $800)\n",
            "        * *Validation:* Checks if each entry is a valid source and numerical value. If not, prompts for correction. If no input, skips this section.\n",
            "\n",
            "**2. Expenses:**\n",
            "\n",
            "Let's break down your monthly expenses.  We'll categorize them to make it easier.\n",
            "\n",
            "* **Housing (Rent/Mortgage):** (Please enter a numerical value)\n",
            "    * *Validation:* Checks if input is a number and greater than 0. If not, prompts: \"Please enter a valid numerical value for your housing costs.\" If no input, defaults to 1000.\n",
            "\n",
            "* **Utilities (Electricity, Water, Gas, Internet):** (Please enter a numerical value)\n",
            "    * *Validation:* Checks if input is a number and greater than 0. If not, prompts: \"Please enter a valid numerical value for your utility costs.\" If no input, defaults to 200.\n",
            "\n",
            "\n",
            "* **Groceries:** (Please enter a numerical value)\n",
            "    * *Validation:* Checks if input is a number and greater than 0. If not, prompts: \"Please enter a valid numerical value for your grocery costs.\" If no input, defaults to 300.\n",
            "\n",
            "\n",
            "* **Transportation (Car payments, gas, public transport):** (Please enter a numerical value)\n",
            "    * *Validation:* Checks if input is a number and greater than or equal to 0. If not, prompts: \"Please enter a valid numerical value for your transportation costs.\" If no input, defaults to 150.\n",
            "\n",
            "\n",
            "* **Debt Payments (Loans, credit cards):** (Please enter a numerical value)\n",
            "    * *Validation:* Checks if input is a number and greater than or equal to 0. If not, prompts: \"Please enter a valid numerical value for your debt payments.\" If no input, defaults to 0.\n",
            "\n",
            "\n",
            "* **Insurance (Health, car, home):** (Please enter a numerical value)\n",
            "    * *Validation:* Checks if input is a number and greater than or equal to 0. If not, prompts: \"Please enter a valid numerical value for your insurance costs.\" If no input, defaults to 100.\n",
            "\n",
            "\n",
            "* **Other Fixed Expenses (e.g., subscriptions, childcare):** (Please enter a numerical value)\n",
            "    * *Validation:* Checks if input is a number and greater than or equal to 0. If not, prompts: \"Please enter a valid numerical value for other fixed expenses.\" If no input, defaults to 50.\n",
            "\n",
            "\n",
            "**3. Discretionary Spending:**\n",
            "\n",
            "This includes things you choose to spend money on.\n",
            "\n",
            "* **Dining Out:** (Please enter a numerical value)\n",
            "    * *Validation:* Checks if input is a number and greater than or equal to 0. If not, prompts: \"Please enter a valid numerical value for dining out expenses.\" If no input, defaults to 100.\n",
            "\n",
            "* **Entertainment (Movies, concerts, etc.):** (Please enter a numerical value)\n",
            "    * *Validation:* Checks if input is a number and greater than or equal to 0. If not, prompts: \"Please enter a valid numerical value for entertainment expenses.\" If no input, defaults to 50.\n",
            "\n",
            "* **Hobbies:** (Please enter a numerical value)\n",
            "    * *Validation:* Checks if input is a number and greater than or equal to 0. If not, prompts: \"Please enter a valid numerical value for hobby expenses.\" If no input, defaults to 25.\n",
            "\n",
            "* **Shopping & Other Discretionary Spending:** (Please enter a numerical value)\n",
            "    * *Validation:* Checks if input is a number and greater than or equal to 0. If not, prompts: \"Please enter a valid numerical value for other discretionary spending.\" If no input, defaults to 100.\n",
            "\n",
            "\n",
            "**4. Savings Goals:**\n",
            "\n",
            "What are your financial goals?\n",
            "\n",
            "* **Do you have any specific savings goals? (e.g., emergency fund, down payment, retirement)?** (Yes/No)\n",
            "    * If Yes:\n",
            "        * **For each goal, please tell me the target amount and your desired timeline (in months or years).** (e.g., Emergency Fund: $5000, 6 months; Down Payment: $20000, 2 years)\n",
            "        * *Validation:* Checks if target amount and timeline are valid. If not, prompts for correction. If no input, skips this section.\n",
            "\n",
            "\n",
            "Once you've provided this information, we can start analyzing your financial picture and offer personalized advice!  Let's get started!\u001b[00m\n",
            "\n",
            "\n",
            "\u001b[1m\u001b[95m# Agent:\u001b[00m \u001b[1m\u001b[92mData Engineer for Financial Systems\u001b[00m\n",
            "\u001b[95m## Task:\u001b[00m \u001b[92mProcess and structure the collected financial information. Categorize data into:1. Income sources2. Fixed expenses3. Discretionary spending4. Savings goalsIdentify any gaps or inconsistencies in the data and request clarification if needed.\u001b[00m\n",
            "\n",
            "\n",
            "\u001b[1m\u001b[95m# Agent:\u001b[00m \u001b[1m\u001b[92mData Engineer for Financial Systems\u001b[00m\n",
            "\u001b[95m## Final Answer:\u001b[00m \u001b[92m\n",
            "**1. Income Sources:**\n",
            "\n",
            "* **Primary Employment:**  (Assuming no input, defaulting to 2500) $2500\n",
            "* **Other Income Sources:** (This section requires user input.  If the user answers \"Yes\" to the question \"Do you have any other sources of income?\",  the following information will be populated based on their input.  Otherwise, this section will remain empty.)\n",
            "\n",
            "    *  (Example based on potential user input: )\n",
            "        * Freelance Writing: $500\n",
            "        * Rental Income: $800\n",
            "\n",
            "\n",
            "**2. Fixed Expenses:**\n",
            "\n",
            "* **Housing (Rent/Mortgage):** (Assuming no input, defaulting to 1000) $1000\n",
            "* **Utilities (Electricity, Water, Gas, Internet):** (Assuming no input, defaulting to 200) $200\n",
            "* **Insurance (Health, car, home):** (Assuming no input, defaulting to 100) $100\n",
            "* **Other Fixed Expenses (e.g., subscriptions, childcare):** (Assuming no input, defaulting to 50) $50\n",
            "\n",
            "\n",
            "**3. Discretionary Spending:**\n",
            "\n",
            "* **Groceries:** (Assuming no input, defaulting to 300) $300\n",
            "* **Transportation (Car payments, gas, public transport):** (Assuming no input, defaulting to 150) $150\n",
            "* **Debt Payments (Loans, credit cards):** (Assuming no input, defaulting to 0) $0\n",
            "* **Dining Out:** (Assuming no input, defaulting to 100) $100\n",
            "* **Entertainment (Movies, concerts, etc.):** (Assuming no input, defaulting to 50) $50\n",
            "* **Hobbies:** (Assuming no input, defaulting to 25) $25\n",
            "* **Shopping & Other Discretionary Spending:** (Assuming no input, defaulting to 100) $100\n",
            "\n",
            "\n",
            "\n",
            "**4. Savings Goals:**\n",
            "\n",
            "* (This section requires user input. If the user answers \"Yes\" to the question \"Do you have any specific savings goals?\", the following information will be populated based on their input. Otherwise, this section will remain empty.)\n",
            "\n",
            "    * (Example based on potential user input:)\n",
            "        * Emergency Fund: $5000, 6 months\n",
            "        * Down Payment: $20000, 2 years\n",
            "\n",
            "\n",
            "**5. Summary of Inconsistencies and Missing Data:**\n",
            "\n",
            "* **Income:** The system relies on user input for additional income sources.  Without user input, the income calculation will only reflect the default salary of $2500.  Validation checks ensure numerical input and values greater than 0 for salary.  For additional income sources, validation checks for both valid source names and numerical amounts are implemented.\n",
            "\n",
            "* **Expenses:** The system defaults to pre-defined values for expenses if no user input is provided. Validation checks ensure numerical input and values greater than or equal to 0 for all expense categories.\n",
            "\n",
            "* **Savings Goals:**  The system requires user input to define savings goals, including target amount and timeline.  If no input is provided, this section will be left blank.  Validation checks ensure that the target amount is a numerical value and the timeline is a valid duration (months or years).\n",
            "\n",
            "* **Overall:**  The system's accuracy and completeness depend entirely on the user providing accurate and complete financial information.  The default values are used only to provide a basic framework in the absence of user input.  The system flags and requests clarification for any invalid or missing data.\u001b[00m\n",
            "\n",
            "\n",
            "\u001b[1m\u001b[95m# Agent:\u001b[00m \u001b[1m\u001b[92mFinancial Analyst Specializing in Budget Allocation and Optimization.\u001b[00m\n",
            "\u001b[95m## Task:\u001b[00m \u001b[92mCreate a personalized budget plan based on the processed data. Utilize the 50/30/20 rule:1. Allocate 50% of income to needs (fixed expenses)2. Allocate 30% of income to wants (discretionary spending)3. Allocate 20% of income to savings and debt repaymentAdjust allocations based on the user's specific goals and financial situation.\u001b[00m\n",
            "\n",
            "\n",
            "\u001b[1m\u001b[95m# Agent:\u001b[00m \u001b[1m\u001b[92mFinancial Analyst Specializing in Budget Allocation and Optimization.\u001b[00m\n",
            "\u001b[95m## Final Answer:\u001b[00m \u001b[92m\n",
            "**Personalized Budget Plan**\n",
            "\n",
            "This budget plan is based on the 50/30/20 rule, allocating 50% of your income to needs, 30% to wants, and 20% to savings and debt repayment.  Adjustments have been made based on the provided (or default) data.  Remember to replace the default values with your actual figures for a more accurate plan.\n",
            "\n",
            "**1. Income:**\n",
            "\n",
            "* Primary Employment: $2500\n",
            "* **Total Income:** $2500 (This will increase if you provide additional income sources)\n",
            "\n",
            "**2. Needs (50% of Income = $1250):**\n",
            "\n",
            "* Housing (Rent/Mortgage): $1000\n",
            "* Utilities (Electricity, Water, Gas, Internet): $200\n",
            "* Insurance (Health, car, home): $100\n",
            "* Other Fixed Expenses (e.g., subscriptions, childcare): $50\n",
            "* **Total Needs:** $1350  *(This exceeds the 50% allocation.  See adjustments below.)*\n",
            "\n",
            "**3. Wants (30% of Income = $750):**\n",
            "\n",
            "* Groceries: $300\n",
            "* Transportation (Car payments, gas, public transport): $150\n",
            "* Debt Payments (Loans, credit cards): $0\n",
            "* Dining Out: $100\n",
            "* Entertainment (Movies, concerts, etc.): $50\n",
            "* Hobbies: $25\n",
            "* Shopping & Other Discretionary Spending: $100\n",
            "* **Total Wants:** $725\n",
            "\n",
            "**4. Savings & Debt Repayment (20% of Income = $500):**\n",
            "\n",
            "* Emergency Fund (Target: $5000, 6 months):  (Monthly allocation will be calculated based on the remaining amount after adjusting for the over-allocation in Needs.)\n",
            "* Down Payment (Target: $20000, 2 years): (Monthly allocation will be calculated based on the remaining amount after adjusting for the over-allocation in Needs.)\n",
            "* **Total Savings & Debt Repayment:** (To be determined after adjustments)\n",
            "\n",
            "\n",
            "**Adjustments:**\n",
            "\n",
            "The current \"Needs\" category exceeds the 50% allocation of the 50/30/20 rule.  To address this, we need to make adjustments:\n",
            "\n",
            "* **Option 1 (Reduce Needs):**  Carefully review your fixed expenses. Are there any areas where you can reduce spending?  This could involve finding cheaper housing, negotiating lower utility bills, or cutting back on non-essential subscriptions.  This is the most effective method to stay within the 50/30/20 framework.\n",
            "\n",
            "* **Option 2 (Increase Income):** Explore opportunities to increase your income.  This could involve taking on a part-time job, freelancing, or finding ways to monetize skills or assets.\n",
            "\n",
            "Once the \"Needs\" category is adjusted to be within the 50% allocation, the remaining funds can be allocated to \"Wants\" and \"Savings & Debt Repayment\" proportionally.  The monthly contributions to your Emergency Fund and Down Payment savings goals will then be calculated based on the available funds and your timelines.\n",
            "\n",
            "\n",
            "**Example Adjustment (Option 1):**\n",
            "\n",
            "Let's assume you successfully reduce your \"Needs\" to $1250 (50% of your income). Then:\n",
            "\n",
            "* **Needs:** $1250\n",
            "* **Wants:** $750\n",
            "* **Savings & Debt Repayment:** $500\n",
            "\n",
            "With $500 available for savings and debt repayment, you can allocate it as follows (these are examples, adjust based on your priorities):\n",
            "\n",
            "* Emergency Fund: $250/month ($1500 annually towards $5000 goal over 6 months)\n",
            "* Down Payment: $250/month ($3000 annually towards $20000 goal over 2 years)\n",
            "\n",
            "**Important Note:** This budget is a starting point.  Regularly review and adjust your budget as your income, expenses, and goals change.  Tracking your spending will help you identify areas for improvement and ensure you stay on track to achieve your financial goals.\u001b[00m\n",
            "\n",
            "\n",
            "\u001b[1m\u001b[95m# Agent:\u001b[00m \u001b[1m\u001b[92mFinancial Advisor Specializing in Personalized Financial Guidance and Education.\u001b[00m\n",
            "\u001b[95m## Task:\u001b[00m \u001b[92mProvide actionable financial advice and recommendations. Includetips on reducing fixed expenses, managing discretionary spending, achieveing savings goals, and investment strategies for long-term financial health. Ensure the adviceis personalized and aligns with the user's financial aspirations.\u001b[00m\n",
            "\n",
            "\n",
            "\u001b[1m\u001b[95m# Agent:\u001b[00m \u001b[1m\u001b[92mFinancial Advisor Specializing in Personalized Financial Guidance and Education.\u001b[00m\n",
            "\u001b[95m## Final Answer:\u001b[00m \u001b[92m\n",
            "Let's work together to create a personalized financial plan that helps you achieve your financial goals.  The budget you've provided is a great starting point, but we need to refine it based on your priorities and make it truly actionable.\n",
            "\n",
            "\n",
            "**Addressing the Budget Imbalance:**\n",
            "\n",
            "Your current budget shows that your \"Needs\" exceed the 50% allocation of the 50/30/20 rule. This requires immediate attention. We can address this through a combination of strategies:\n",
            "\n",
            "**1. Reducing Fixed Expenses (Option 1):**\n",
            "\n",
            "Let's analyze your fixed expenses:\n",
            "\n",
            "* **Housing ($1000):** This is a significant portion of your budget.  Can you consider more affordable housing options? Could you potentially negotiate a lower rent?  If you own your home, explore ways to lower your mortgage payments (refinancing, etc.).\n",
            "\n",
            "* **Utilities ($200):** Can you reduce your energy consumption (using energy-efficient appliances, turning off lights)?  Shop around for better internet and phone plans.\n",
            "\n",
            "* **Insurance ($100):**  Review your insurance policies. Are you getting the best coverage at the best price?  Consider increasing your deductible to lower your premiums.  Compare quotes from multiple insurance providers.\n",
            "\n",
            "* **Other Fixed Expenses ($50):** Identify these expenses. Are any subscriptions unnecessary? Can you cancel or downgrade any services?\n",
            "\n",
            "**Actionable Steps:**\n",
            "\n",
            "1. **Detailed Expense Tracking:** For the next month, meticulously track every expense. Categorize them (needs, wants, savings).  Use budgeting apps or spreadsheets. This will give us a clear picture of your spending habits.\n",
            "\n",
            "2. **Negotiate:** Contact your service providers (internet, phone, insurance) and negotiate lower rates.  Often, simply asking can lead to savings.\n",
            "\n",
            "3. **Re-evaluate Housing:** If possible, explore alternative housing options that better align with your budget.\n",
            "\n",
            "4. **Subscription Audit:** Cancel or downgrade any unnecessary subscriptions (streaming services, gym memberships, etc.).\n",
            "\n",
            "\n",
            "**2. Increasing Income (Option 2):**\n",
            "\n",
            "While reducing expenses is crucial, increasing your income can provide more financial flexibility.\n",
            "\n",
            "**Actionable Steps:**\n",
            "\n",
            "1. **Identify Skills:** What skills or talents do you possess that you could monetize?  Consider freelancing, gig work, or part-time employment.\n",
            "\n",
            "2. **Explore Opportunities:** Research part-time jobs or freelance platforms that align with your skills and availability.\n",
            "\n",
            "3. **Negotiate a Raise:** If you're satisfied with your current job, research industry standards for your role and experience level and prepare a case for a salary increase.\n",
            "\n",
            "\n",
            "**Revised Budget and Savings Allocation (Illustrative):**\n",
            "\n",
            "Let's assume, after implementing the above strategies, you reduce your \"Needs\" to $1200.  This leaves $1300 for \"Wants\" and \"Savings & Debt Repayment.\"  Applying the 50/30/20 rule, we'd allocate approximately $390 to savings and debt repayment.\n",
            "\n",
            "* **Emergency Fund:**  We'll allocate a significant portion towards building a $5000 emergency fund.  Given the current situation, let's allocate $200 monthly.  This will take roughly 25 months to achieve.\n",
            "\n",
            "* **Down Payment:**  The remaining $190 will be allocated towards your $20,000 down payment goal.  This will take approximately 8.5 years.  This timeline may need adjusting based on your priorities and ability to increase savings.\n",
            "\n",
            "**Investment Strategies for Long-Term Financial Health:**\n",
            "\n",
            "Once you have a comfortable emergency fund (3-6 months of living expenses), it's crucial to start investing for long-term growth.\n",
            "\n",
            "* **Retirement Savings:** Contribute consistently to a retirement account (401k, IRA).  Take advantage of employer matching if available.\n",
            "\n",
            "* **Investment Portfolio:**  Diversify your investments across different asset classes (stocks, bonds, real estate). Consider low-cost index funds or ETFs for diversification.\n",
            "\n",
            "* **Regular Contributions:**  Automate your investments to ensure consistent contributions.\n",
            "\n",
            "**Ongoing Monitoring and Review:**\n",
            "\n",
            "This is not a one-time plan.  Regularly review your budget (monthly or quarterly) to track your progress, make adjustments as needed, and celebrate your successes.\n",
            "\n",
            "\n",
            "This detailed plan provides actionable steps and a framework for improving your financial well-being. Remember, consistency and discipline are key to achieving your financial goals.  Let's schedule a follow-up to discuss your progress and refine the plan further.\u001b[00m\n",
            "\n",
            "\n"
          ]
        }
      ],
      "source": [
        "result = budget_planner_crew.kickoff()"
      ]
    },
    {
      "cell_type": "code",
      "execution_count": 34,
      "id": "dba7cb86-61e9-4785-85c4-7b8b2069b089",
      "metadata": {
        "id": "dba7cb86-61e9-4785-85c4-7b8b2069b089",
        "colab": {
          "base_uri": "https://localhost:8080/",
          "height": 1000
        },
        "outputId": "188b6368-9eeb-45a8-cd14-845a0c5d55af"
      },
      "outputs": [
        {
          "output_type": "execute_result",
          "data": {
            "text/plain": [
              "<IPython.core.display.Markdown object>"
            ],
            "text/markdown": "Let's work together to create a personalized financial plan that helps you achieve your financial goals.  The budget you've provided is a great starting point, but we need to refine it based on your priorities and make it truly actionable.\n\n\n**Addressing the Budget Imbalance:**\n\nYour current budget shows that your \"Needs\" exceed the 50% allocation of the 50/30/20 rule. This requires immediate attention. We can address this through a combination of strategies:\n\n**1. Reducing Fixed Expenses (Option 1):**\n\nLet's analyze your fixed expenses:\n\n* **Housing ($1000):** This is a significant portion of your budget.  Can you consider more affordable housing options? Could you potentially negotiate a lower rent?  If you own your home, explore ways to lower your mortgage payments (refinancing, etc.).\n\n* **Utilities ($200):** Can you reduce your energy consumption (using energy-efficient appliances, turning off lights)?  Shop around for better internet and phone plans.\n\n* **Insurance ($100):**  Review your insurance policies. Are you getting the best coverage at the best price?  Consider increasing your deductible to lower your premiums.  Compare quotes from multiple insurance providers.\n\n* **Other Fixed Expenses ($50):** Identify these expenses. Are any subscriptions unnecessary? Can you cancel or downgrade any services?\n\n**Actionable Steps:**\n\n1. **Detailed Expense Tracking:** For the next month, meticulously track every expense. Categorize them (needs, wants, savings).  Use budgeting apps or spreadsheets. This will give us a clear picture of your spending habits.\n\n2. **Negotiate:** Contact your service providers (internet, phone, insurance) and negotiate lower rates.  Often, simply asking can lead to savings.\n\n3. **Re-evaluate Housing:** If possible, explore alternative housing options that better align with your budget.\n\n4. **Subscription Audit:** Cancel or downgrade any unnecessary subscriptions (streaming services, gym memberships, etc.).\n\n\n**2. Increasing Income (Option 2):**\n\nWhile reducing expenses is crucial, increasing your income can provide more financial flexibility.\n\n**Actionable Steps:**\n\n1. **Identify Skills:** What skills or talents do you possess that you could monetize?  Consider freelancing, gig work, or part-time employment.\n\n2. **Explore Opportunities:** Research part-time jobs or freelance platforms that align with your skills and availability.\n\n3. **Negotiate a Raise:** If you're satisfied with your current job, research industry standards for your role and experience level and prepare a case for a salary increase.\n\n\n**Revised Budget and Savings Allocation (Illustrative):**\n\nLet's assume, after implementing the above strategies, you reduce your \"Needs\" to $1200.  This leaves $1300 for \"Wants\" and \"Savings & Debt Repayment.\"  Applying the 50/30/20 rule, we'd allocate approximately $390 to savings and debt repayment.\n\n* **Emergency Fund:**  We'll allocate a significant portion towards building a $5000 emergency fund.  Given the current situation, let's allocate $200 monthly.  This will take roughly 25 months to achieve.\n\n* **Down Payment:**  The remaining $190 will be allocated towards your $20,000 down payment goal.  This will take approximately 8.5 years.  This timeline may need adjusting based on your priorities and ability to increase savings.\n\n**Investment Strategies for Long-Term Financial Health:**\n\nOnce you have a comfortable emergency fund (3-6 months of living expenses), it's crucial to start investing for long-term growth.\n\n* **Retirement Savings:** Contribute consistently to a retirement account (401k, IRA).  Take advantage of employer matching if available.\n\n* **Investment Portfolio:**  Diversify your investments across different asset classes (stocks, bonds, real estate). Consider low-cost index funds or ETFs for diversification.\n\n* **Regular Contributions:**  Automate your investments to ensure consistent contributions.\n\n**Ongoing Monitoring and Review:**\n\nThis is not a one-time plan.  Regularly review your budget (monthly or quarterly) to track your progress, make adjustments as needed, and celebrate your successes.\n\n\nThis detailed plan provides actionable steps and a framework for improving your financial well-being. Remember, consistency and discipline are key to achieving your financial goals.  Let's schedule a follow-up to discuss your progress and refine the plan further."
          },
          "metadata": {},
          "execution_count": 34
        }
      ],
      "source": [
        "from IPython.display import Markdown\n",
        "\n",
        "result_text = result.raw\n",
        "Markdown(result_text)"
      ]
    }
  ],
  "metadata": {
    "kernelspec": {
      "display_name": "Python 3.12.1",
      "language": "python",
      "name": "python312"
    },
    "language_info": {
      "codemirror_mode": {
        "name": "ipython",
        "version": 3
      },
      "file_extension": ".py",
      "mimetype": "text/x-python",
      "name": "python",
      "nbconvert_exporter": "python",
      "pygments_lexer": "ipython3",
      "version": "3.12.3"
    },
    "colab": {
      "provenance": [],
      "include_colab_link": true
    }
  },
  "nbformat": 4,
  "nbformat_minor": 5
}